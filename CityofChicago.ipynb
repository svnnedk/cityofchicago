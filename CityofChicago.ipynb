{
 "cells": [
  {
   "cell_type": "code",
   "metadata": {
    "tags": [],
    "cell_id": "00000-4e32a73e-a541-463e-99f9-ca2f0aab9d37",
    "deepnote_to_be_reexecuted": false,
    "source_hash": "d0fddff2",
    "execution_start": 1641473928945,
    "execution_millis": 174,
    "deepnote_output_heights": [
     78.75
    ],
    "deepnote_cell_type": "code"
   },
   "source": "import pandas as pd \ndf = pd.DataFrame(data=pd.read_csv('https://data.cityofchicago.org/resource/jcxq-k9xf.csv'))\n\ndf.head()\n",
   "outputs": [
    {
     "output_type": "execute_result",
     "execution_count": 23,
     "data": {
      "application/vnd.deepnote.dataframe.v3+json": {
       "column_count": 9,
       "row_count": 5,
       "columns": [
        {
         "name": "ca",
         "dtype": "float64",
         "stats": {
          "unique_count": 5,
          "nan_count": 0,
          "min": "1.0",
          "max": "5.0",
          "histogram": [
           {
            "bin_start": 1,
            "bin_end": 1.4,
            "count": 1
           },
           {
            "bin_start": 1.4,
            "bin_end": 1.8,
            "count": 0
           },
           {
            "bin_start": 1.8,
            "bin_end": 2.2,
            "count": 1
           },
           {
            "bin_start": 2.2,
            "bin_end": 2.6,
            "count": 0
           },
           {
            "bin_start": 2.6,
            "bin_end": 3,
            "count": 0
           },
           {
            "bin_start": 3,
            "bin_end": 3.4000000000000004,
            "count": 1
           },
           {
            "bin_start": 3.4000000000000004,
            "bin_end": 3.8000000000000003,
            "count": 0
           },
           {
            "bin_start": 3.8000000000000003,
            "bin_end": 4.2,
            "count": 1
           },
           {
            "bin_start": 4.2,
            "bin_end": 4.6,
            "count": 0
           },
           {
            "bin_start": 4.6,
            "bin_end": 5,
            "count": 1
           }
          ]
         }
        },
        {
         "name": "community_area_name",
         "dtype": "object",
         "stats": {
          "unique_count": 5,
          "nan_count": 0,
          "categories": [
           {
            "name": "Rogers Park",
            "count": 1
           },
           {
            "name": "West Ridge",
            "count": 1
           },
           {
            "name": "3 others",
            "count": 3
           }
          ]
         }
        },
        {
         "name": "percent_of_housing_crowded",
         "dtype": "float64",
         "stats": {
          "unique_count": 5,
          "nan_count": 0,
          "min": "0.3",
          "max": "7.8",
          "histogram": [
           {
            "bin_start": 0.3,
            "bin_end": 1.05,
            "count": 1
           },
           {
            "bin_start": 1.05,
            "bin_end": 1.8,
            "count": 0
           },
           {
            "bin_start": 1.8,
            "bin_end": 2.55,
            "count": 0
           },
           {
            "bin_start": 2.55,
            "bin_end": 3.3,
            "count": 0
           },
           {
            "bin_start": 3.3,
            "bin_end": 4.05,
            "count": 2
           },
           {
            "bin_start": 4.05,
            "bin_end": 4.8,
            "count": 0
           },
           {
            "bin_start": 4.8,
            "bin_end": 5.55,
            "count": 0
           },
           {
            "bin_start": 5.55,
            "bin_end": 6.3,
            "count": 0
           },
           {
            "bin_start": 6.3,
            "bin_end": 7.05,
            "count": 0
           },
           {
            "bin_start": 7.05,
            "bin_end": 7.8,
            "count": 2
           }
          ]
         }
        },
        {
         "name": "percent_households_below_poverty",
         "dtype": "float64",
         "stats": {
          "unique_count": 5,
          "nan_count": 0,
          "min": "7.5",
          "max": "24.0",
          "histogram": [
           {
            "bin_start": 7.5,
            "bin_end": 9.15,
            "count": 1
           },
           {
            "bin_start": 9.15,
            "bin_end": 10.8,
            "count": 0
           },
           {
            "bin_start": 10.8,
            "bin_end": 12.45,
            "count": 1
           },
           {
            "bin_start": 12.45,
            "bin_end": 14.1,
            "count": 0
           },
           {
            "bin_start": 14.1,
            "bin_end": 15.75,
            "count": 0
           },
           {
            "bin_start": 15.75,
            "bin_end": 17.4,
            "count": 1
           },
           {
            "bin_start": 17.4,
            "bin_end": 19.049999999999997,
            "count": 0
           },
           {
            "bin_start": 19.049999999999997,
            "bin_end": 20.7,
            "count": 0
           },
           {
            "bin_start": 20.7,
            "bin_end": 22.35,
            "count": 0
           },
           {
            "bin_start": 22.35,
            "bin_end": 24,
            "count": 2
           }
          ]
         }
        },
        {
         "name": "percent_aged_16_unemployed",
         "dtype": "float64",
         "stats": {
          "unique_count": 5,
          "nan_count": 0,
          "min": "5.2",
          "max": "8.9",
          "histogram": [
           {
            "bin_start": 5.2,
            "bin_end": 5.57,
            "count": 1
           },
           {
            "bin_start": 5.57,
            "bin_end": 5.94,
            "count": 0
           },
           {
            "bin_start": 5.94,
            "bin_end": 6.3100000000000005,
            "count": 0
           },
           {
            "bin_start": 6.3100000000000005,
            "bin_end": 6.68,
            "count": 0
           },
           {
            "bin_start": 6.68,
            "bin_end": 7.050000000000001,
            "count": 0
           },
           {
            "bin_start": 7.050000000000001,
            "bin_end": 7.42,
            "count": 0
           },
           {
            "bin_start": 7.42,
            "bin_end": 7.79,
            "count": 0
           },
           {
            "bin_start": 7.79,
            "bin_end": 8.16,
            "count": 0
           },
           {
            "bin_start": 8.16,
            "bin_end": 8.530000000000001,
            "count": 1
           },
           {
            "bin_start": 8.530000000000001,
            "bin_end": 8.9,
            "count": 3
           }
          ]
         }
        },
        {
         "name": "percent_aged_25_without_high_school_diploma",
         "dtype": "float64",
         "stats": {
          "unique_count": 5,
          "nan_count": 0,
          "min": "4.5",
          "max": "20.8",
          "histogram": [
           {
            "bin_start": 4.5,
            "bin_end": 6.13,
            "count": 1
           },
           {
            "bin_start": 6.13,
            "bin_end": 7.76,
            "count": 0
           },
           {
            "bin_start": 7.76,
            "bin_end": 9.39,
            "count": 0
           },
           {
            "bin_start": 9.39,
            "bin_end": 11.02,
            "count": 0
           },
           {
            "bin_start": 11.02,
            "bin_end": 12.65,
            "count": 1
           },
           {
            "bin_start": 12.65,
            "bin_end": 14.280000000000001,
            "count": 1
           },
           {
            "bin_start": 14.280000000000001,
            "bin_end": 15.91,
            "count": 0
           },
           {
            "bin_start": 15.91,
            "bin_end": 17.54,
            "count": 0
           },
           {
            "bin_start": 17.54,
            "bin_end": 19.17,
            "count": 1
           },
           {
            "bin_start": 19.17,
            "bin_end": 20.8,
            "count": 1
           }
          ]
         }
        },
        {
         "name": "percent_aged_under_18_or_over_64",
         "dtype": "float64",
         "stats": {
          "unique_count": 5,
          "nan_count": 0,
          "min": "22.2",
          "max": "38.5",
          "histogram": [
           {
            "bin_start": 22.2,
            "bin_end": 23.83,
            "count": 1
           },
           {
            "bin_start": 23.83,
            "bin_end": 25.46,
            "count": 0
           },
           {
            "bin_start": 25.46,
            "bin_end": 27.09,
            "count": 2
           },
           {
            "bin_start": 27.09,
            "bin_end": 28.72,
            "count": 1
           },
           {
            "bin_start": 28.72,
            "bin_end": 30.35,
            "count": 0
           },
           {
            "bin_start": 30.35,
            "bin_end": 31.98,
            "count": 0
           },
           {
            "bin_start": 31.98,
            "bin_end": 33.61,
            "count": 0
           },
           {
            "bin_start": 33.61,
            "bin_end": 35.24,
            "count": 0
           },
           {
            "bin_start": 35.24,
            "bin_end": 36.870000000000005,
            "count": 0
           },
           {
            "bin_start": 36.870000000000005,
            "bin_end": 38.5,
            "count": 1
           }
          ]
         }
        },
        {
         "name": "per_capita_income_",
         "dtype": "int64",
         "stats": {
          "unique_count": 5,
          "nan_count": 0,
          "min": "23040",
          "max": "57123",
          "histogram": [
           {
            "bin_start": 23040,
            "bin_end": 26448.3,
            "count": 2
           },
           {
            "bin_start": 26448.3,
            "bin_end": 29856.6,
            "count": 0
           },
           {
            "bin_start": 29856.6,
            "bin_end": 33264.9,
            "count": 0
           },
           {
            "bin_start": 33264.9,
            "bin_end": 36673.2,
            "count": 1
           },
           {
            "bin_start": 36673.2,
            "bin_end": 40081.5,
            "count": 1
           },
           {
            "bin_start": 40081.5,
            "bin_end": 43489.8,
            "count": 0
           },
           {
            "bin_start": 43489.8,
            "bin_end": 46898.100000000006,
            "count": 0
           },
           {
            "bin_start": 46898.100000000006,
            "bin_end": 50306.4,
            "count": 0
           },
           {
            "bin_start": 50306.4,
            "bin_end": 53714.7,
            "count": 0
           },
           {
            "bin_start": 53714.7,
            "bin_end": 57123,
            "count": 1
           }
          ]
         }
        },
        {
         "name": "hardship_index",
         "dtype": "float64",
         "stats": {
          "unique_count": 5,
          "nan_count": 0,
          "min": "6.0",
          "max": "46.0",
          "histogram": [
           {
            "bin_start": 6,
            "bin_end": 10,
            "count": 1
           },
           {
            "bin_start": 10,
            "bin_end": 14,
            "count": 0
           },
           {
            "bin_start": 14,
            "bin_end": 18,
            "count": 1
           },
           {
            "bin_start": 18,
            "bin_end": 22,
            "count": 1
           },
           {
            "bin_start": 22,
            "bin_end": 26,
            "count": 0
           },
           {
            "bin_start": 26,
            "bin_end": 30,
            "count": 0
           },
           {
            "bin_start": 30,
            "bin_end": 34,
            "count": 0
           },
           {
            "bin_start": 34,
            "bin_end": 38,
            "count": 0
           },
           {
            "bin_start": 38,
            "bin_end": 42,
            "count": 1
           },
           {
            "bin_start": 42,
            "bin_end": 46,
            "count": 1
           }
          ]
         }
        },
        {
         "name": "_deepnote_index_column",
         "dtype": "int64"
        }
       ],
       "rows": [
        {
         "ca": 1,
         "community_area_name": "Rogers Park",
         "percent_of_housing_crowded": 7.7,
         "percent_households_below_poverty": 23.6,
         "percent_aged_16_unemployed": 8.7,
         "percent_aged_25_without_high_school_diploma": 18.2,
         "percent_aged_under_18_or_over_64": 27.5,
         "per_capita_income_": 23939,
         "hardship_index": 39,
         "_deepnote_index_column": 0
        },
        {
         "ca": 2,
         "community_area_name": "West Ridge",
         "percent_of_housing_crowded": 7.8,
         "percent_households_below_poverty": 17.2,
         "percent_aged_16_unemployed": 8.8,
         "percent_aged_25_without_high_school_diploma": 20.8,
         "percent_aged_under_18_or_over_64": 38.5,
         "per_capita_income_": 23040,
         "hardship_index": 46,
         "_deepnote_index_column": 1
        },
        {
         "ca": 3,
         "community_area_name": "Uptown",
         "percent_of_housing_crowded": 3.8,
         "percent_households_below_poverty": 24,
         "percent_aged_16_unemployed": 8.9,
         "percent_aged_25_without_high_school_diploma": 11.8,
         "percent_aged_under_18_or_over_64": 22.2,
         "per_capita_income_": 35787,
         "hardship_index": 20,
         "_deepnote_index_column": 2
        },
        {
         "ca": 4,
         "community_area_name": "Lincoln Square",
         "percent_of_housing_crowded": 3.4,
         "percent_households_below_poverty": 10.9,
         "percent_aged_16_unemployed": 8.2,
         "percent_aged_25_without_high_school_diploma": 13.4,
         "percent_aged_under_18_or_over_64": 25.5,
         "per_capita_income_": 37524,
         "hardship_index": 17,
         "_deepnote_index_column": 3
        },
        {
         "ca": 5,
         "community_area_name": "North Center",
         "percent_of_housing_crowded": 0.3,
         "percent_households_below_poverty": 7.5,
         "percent_aged_16_unemployed": 5.2,
         "percent_aged_25_without_high_school_diploma": 4.5,
         "percent_aged_under_18_or_over_64": 26.2,
         "per_capita_income_": 57123,
         "hardship_index": 6,
         "_deepnote_index_column": 4
        }
       ]
      },
      "text/plain": "    ca community_area_name  percent_of_housing_crowded  \\\n0  1.0         Rogers Park                         7.7   \n1  2.0          West Ridge                         7.8   \n2  3.0              Uptown                         3.8   \n3  4.0      Lincoln Square                         3.4   \n4  5.0        North Center                         0.3   \n\n   percent_households_below_poverty  percent_aged_16_unemployed  \\\n0                              23.6                         8.7   \n1                              17.2                         8.8   \n2                              24.0                         8.9   \n3                              10.9                         8.2   \n4                               7.5                         5.2   \n\n   percent_aged_25_without_high_school_diploma  \\\n0                                         18.2   \n1                                         20.8   \n2                                         11.8   \n3                                         13.4   \n4                                          4.5   \n\n   percent_aged_under_18_or_over_64  per_capita_income_  hardship_index  \n0                              27.5               23939            39.0  \n1                              38.5               23040            46.0  \n2                              22.2               35787            20.0  \n3                              25.5               37524            17.0  \n4                              26.2               57123             6.0  ",
      "text/html": "<div>\n<style scoped>\n    .dataframe tbody tr th:only-of-type {\n        vertical-align: middle;\n    }\n\n    .dataframe tbody tr th {\n        vertical-align: top;\n    }\n\n    .dataframe thead th {\n        text-align: right;\n    }\n</style>\n<table border=\"1\" class=\"dataframe\">\n  <thead>\n    <tr style=\"text-align: right;\">\n      <th></th>\n      <th>ca</th>\n      <th>community_area_name</th>\n      <th>percent_of_housing_crowded</th>\n      <th>percent_households_below_poverty</th>\n      <th>percent_aged_16_unemployed</th>\n      <th>percent_aged_25_without_high_school_diploma</th>\n      <th>percent_aged_under_18_or_over_64</th>\n      <th>per_capita_income_</th>\n      <th>hardship_index</th>\n    </tr>\n  </thead>\n  <tbody>\n    <tr>\n      <th>0</th>\n      <td>1.0</td>\n      <td>Rogers Park</td>\n      <td>7.7</td>\n      <td>23.6</td>\n      <td>8.7</td>\n      <td>18.2</td>\n      <td>27.5</td>\n      <td>23939</td>\n      <td>39.0</td>\n    </tr>\n    <tr>\n      <th>1</th>\n      <td>2.0</td>\n      <td>West Ridge</td>\n      <td>7.8</td>\n      <td>17.2</td>\n      <td>8.8</td>\n      <td>20.8</td>\n      <td>38.5</td>\n      <td>23040</td>\n      <td>46.0</td>\n    </tr>\n    <tr>\n      <th>2</th>\n      <td>3.0</td>\n      <td>Uptown</td>\n      <td>3.8</td>\n      <td>24.0</td>\n      <td>8.9</td>\n      <td>11.8</td>\n      <td>22.2</td>\n      <td>35787</td>\n      <td>20.0</td>\n    </tr>\n    <tr>\n      <th>3</th>\n      <td>4.0</td>\n      <td>Lincoln Square</td>\n      <td>3.4</td>\n      <td>10.9</td>\n      <td>8.2</td>\n      <td>13.4</td>\n      <td>25.5</td>\n      <td>37524</td>\n      <td>17.0</td>\n    </tr>\n    <tr>\n      <th>4</th>\n      <td>5.0</td>\n      <td>North Center</td>\n      <td>0.3</td>\n      <td>7.5</td>\n      <td>5.2</td>\n      <td>4.5</td>\n      <td>26.2</td>\n      <td>57123</td>\n      <td>6.0</td>\n    </tr>\n  </tbody>\n</table>\n</div>"
     },
     "metadata": {}
    }
   ],
   "execution_count": 23
  },
  {
   "cell_type": "code",
   "metadata": {
    "tags": [],
    "cell_id": "00001-606003d5-2898-4e8e-a027-432a2fb18317",
    "deepnote_to_be_reexecuted": false,
    "source_hash": "25d43fa0",
    "execution_start": 1641473768746,
    "execution_millis": 8,
    "deepnote_output_heights": [
     117.125
    ],
    "deepnote_cell_type": "code"
   },
   "source": "df.columns",
   "outputs": [
    {
     "output_type": "execute_result",
     "execution_count": 18,
     "data": {
      "text/plain": "Index(['ca', 'community_area_name', 'percent_of_housing_crowded',\n       'percent_households_below_poverty', 'percent_aged_16_unemployed',\n       'percent_aged_25_without_high_school_diploma',\n       'percent_aged_under_18_or_over_64', 'per_capita_income_',\n       'hardship_index'],\n      dtype='object')"
     },
     "metadata": {}
    }
   ],
   "execution_count": 18
  },
  {
   "cell_type": "markdown",
   "source": "What is the maximum value of hardship index in this dataset?",
   "metadata": {
    "tags": [],
    "cell_id": "00004-d3a9de79-04af-4092-804d-fd19a1af0ad2",
    "deepnote_cell_type": "markdown"
   }
  },
  {
   "cell_type": "code",
   "metadata": {
    "tags": [],
    "cell_id": "00001-cea68701-e1c9-46b9-8e44-9686a291b260",
    "deepnote_to_be_reexecuted": false,
    "source_hash": "5305ce90",
    "execution_start": 1641475547258,
    "execution_millis": 5,
    "deepnote_output_heights": [
     21.1875
    ],
    "deepnote_cell_type": "code"
   },
   "source": "df.hardship_index.max()",
   "outputs": [
    {
     "output_type": "execute_result",
     "execution_count": 57,
     "data": {
      "text/plain": "98.0"
     },
     "metadata": {}
    }
   ],
   "execution_count": 57
  },
  {
   "cell_type": "markdown",
   "source": "How many community areas in Chicago have a hardship index greater than 50.0?",
   "metadata": {
    "tags": [],
    "cell_id": "00005-a71c5adb-11d5-4d8d-9f07-9a70468003bf",
    "deepnote_cell_type": "markdown"
   }
  },
  {
   "cell_type": "code",
   "metadata": {
    "tags": [],
    "cell_id": "00005-cde7ec72-6b7c-48ca-a8de-153855891d35",
    "deepnote_to_be_reexecuted": false,
    "source_hash": "7d6fe292",
    "execution_start": 1641475603193,
    "execution_millis": 1,
    "deepnote_output_heights": [
     174.6875
    ],
    "deepnote_cell_type": "code"
   },
   "source": "df2 = df.hardship_index\ncriteria = df2[df2.iloc[:]>= 50]     \nprint(criteria)",
   "outputs": [
    {
     "name": "stdout",
     "text": "13    53.0\n17    50.0\n18    70.0\n19    71.0\n22    85.0\n24    73.0\n25    92.0\n26    83.0\n28    87.0\n29    96.0\n30    76.0\n33    82.0\n35    78.0\n36    97.0\n37    57.0\n39    88.0\n41    58.0\n42    55.0\n43    60.0\n45    75.0\n46    79.0\n48    52.0\n49    51.0\n50    65.0\n51    64.0\n52    62.0\n53    98.0\n56    67.0\n57    84.0\n58    61.0\n60    91.0\n61    69.0\n62    93.0\n64    56.0\n65    80.0\n66    89.0\n67    94.0\n68    66.0\n70    74.0\nName: hardship_index, dtype: float64\n",
     "output_type": "stream",
     "data": {}
    }
   ],
   "execution_count": 58
  },
  {
   "cell_type": "markdown",
   "source": "Which community area which has the highest hardship index?",
   "metadata": {
    "tags": [],
    "cell_id": "00007-1b7a041c-626d-4548-8d90-a1418707c9ec",
    "deepnote_cell_type": "markdown"
   }
  },
  {
   "cell_type": "code",
   "metadata": {
    "tags": [],
    "cell_id": "00007-ba784812-b533-4215-b379-cac61ed0cc50",
    "deepnote_to_be_reexecuted": false,
    "source_hash": "e8e25083",
    "execution_start": 1641477916517,
    "execution_millis": 100,
    "deepnote_output_heights": [
     59.5625
    ],
    "deepnote_cell_type": "code"
   },
   "source": "highest_hard_index = df[['community_area_name', 'hardship_index']]\nhighest_hard_index.max()",
   "outputs": [
    {
     "output_type": "execute_result",
     "execution_count": 109,
     "data": {
      "text/plain": "community_area_name    Woodlawn\nhardship_index             98.0\ndtype: object"
     },
     "metadata": {}
    }
   ],
   "execution_count": 109
  },
  {
   "cell_type": "markdown",
   "source": "Which Chicago community areas have per-capita incomes greater than $60,000?¶",
   "metadata": {
    "tags": [],
    "cell_id": "00008-8b6dd7da-f395-4d14-9f18-ddcd4864b720",
    "deepnote_cell_type": "markdown"
   }
  },
  {
   "cell_type": "code",
   "metadata": {
    "tags": [],
    "cell_id": "00009-475265d2-22aa-47ff-9f69-368ee338a329",
    "deepnote_to_be_reexecuted": false,
    "source_hash": "91d8552d",
    "execution_start": 1641478206655,
    "execution_millis": 68,
    "deepnote_table_state": {
     "pageSize": 10,
     "pageIndex": 0,
     "filters": [],
     "sortBy": [
      {
       "id": "per_capita_income_",
       "type": "desc"
      }
     ]
    },
    "deepnote_table_loading": false,
    "deepnote_cell_type": "code"
   },
   "source": "income_comm_area = df[['community_area_name', 'per_capita_income_']]\nincome_comm_area",
   "outputs": [
    {
     "output_type": "execute_result",
     "execution_count": 117,
     "data": {
      "application/vnd.deepnote.dataframe.v3+json": {
       "column_count": 2,
       "row_count": 78,
       "columns": [
        {
         "name": "community_area_name",
         "dtype": "object",
         "stats": {
          "unique_count": 78,
          "nan_count": 0,
          "categories": [
           {
            "name": "Near North Side",
            "count": 1
           },
           {
            "name": "Lincoln Park",
            "count": 1
           },
           {
            "name": "76 others",
            "count": 76
           }
          ]
         }
        },
        {
         "name": "per_capita_income_",
         "dtype": "int64",
         "stats": {
          "unique_count": 78,
          "nan_count": 0,
          "min": "8201",
          "max": "88669",
          "histogram": [
           {
            "bin_start": 8201,
            "bin_end": 16247.8,
            "count": 23
           },
           {
            "bin_start": 16247.8,
            "bin_end": 24294.6,
            "count": 24
           },
           {
            "bin_start": 24294.6,
            "bin_end": 32341.4,
            "count": 13
           },
           {
            "bin_start": 32341.4,
            "bin_end": 40388.2,
            "count": 8
           },
           {
            "bin_start": 40388.2,
            "bin_end": 48435,
            "count": 4
           },
           {
            "bin_start": 48435,
            "bin_end": 56481.8,
            "count": 0
           },
           {
            "bin_start": 56481.8,
            "bin_end": 64528.6,
            "count": 3
           },
           {
            "bin_start": 64528.6,
            "bin_end": 72575.4,
            "count": 2
           },
           {
            "bin_start": 72575.4,
            "bin_end": 80622.2,
            "count": 0
           },
           {
            "bin_start": 80622.2,
            "bin_end": 88669,
            "count": 1
           }
          ]
         }
        },
        {
         "name": "_deepnote_index_column",
         "dtype": "int64"
        }
       ],
       "rows": [
        {
         "community_area_name": "Near North Side",
         "per_capita_income_": 88669,
         "_deepnote_index_column": 7
        },
        {
         "community_area_name": "Lincoln Park",
         "per_capita_income_": 71551,
         "_deepnote_index_column": 6
        },
        {
         "community_area_name": "Loop",
         "per_capita_income_": 65526,
         "_deepnote_index_column": 31
        },
        {
         "community_area_name": "Lake View",
         "per_capita_income_": 60058,
         "_deepnote_index_column": 5
        },
        {
         "community_area_name": "Near South Side",
         "per_capita_income_": 59077,
         "_deepnote_index_column": 32
        },
        {
         "community_area_name": "North Center",
         "per_capita_income_": 57123,
         "_deepnote_index_column": 4
        },
        {
         "community_area_name": "Near West Side",
         "per_capita_income_": 44689,
         "_deepnote_index_column": 27
        },
        {
         "community_area_name": "Forest Glen",
         "per_capita_income_": 44164,
         "_deepnote_index_column": 11
        },
        {
         "community_area_name": "West Town",
         "per_capita_income_": 43198,
         "_deepnote_index_column": 23
        },
        {
         "community_area_name": "Edison Park",
         "per_capita_income_": 40959,
         "_deepnote_index_column": 8
        }
       ]
      },
      "text/plain": "   community_area_name  per_capita_income_\n0          Rogers Park               23939\n1           West Ridge               23040\n2               Uptown               35787\n3       Lincoln Square               37524\n4         North Center               57123\n..                 ...                 ...\n73     Mount Greenwood               34381\n74         Morgan Park               27149\n75              O'Hare               25828\n76           Edgewater               33385\n77             CHICAGO               28202\n\n[78 rows x 2 columns]",
      "text/html": "<div>\n<style scoped>\n    .dataframe tbody tr th:only-of-type {\n        vertical-align: middle;\n    }\n\n    .dataframe tbody tr th {\n        vertical-align: top;\n    }\n\n    .dataframe thead th {\n        text-align: right;\n    }\n</style>\n<table border=\"1\" class=\"dataframe\">\n  <thead>\n    <tr style=\"text-align: right;\">\n      <th></th>\n      <th>community_area_name</th>\n      <th>per_capita_income_</th>\n    </tr>\n  </thead>\n  <tbody>\n    <tr>\n      <th>0</th>\n      <td>Rogers Park</td>\n      <td>23939</td>\n    </tr>\n    <tr>\n      <th>1</th>\n      <td>West Ridge</td>\n      <td>23040</td>\n    </tr>\n    <tr>\n      <th>2</th>\n      <td>Uptown</td>\n      <td>35787</td>\n    </tr>\n    <tr>\n      <th>3</th>\n      <td>Lincoln Square</td>\n      <td>37524</td>\n    </tr>\n    <tr>\n      <th>4</th>\n      <td>North Center</td>\n      <td>57123</td>\n    </tr>\n    <tr>\n      <th>...</th>\n      <td>...</td>\n      <td>...</td>\n    </tr>\n    <tr>\n      <th>73</th>\n      <td>Mount Greenwood</td>\n      <td>34381</td>\n    </tr>\n    <tr>\n      <th>74</th>\n      <td>Morgan Park</td>\n      <td>27149</td>\n    </tr>\n    <tr>\n      <th>75</th>\n      <td>O'Hare</td>\n      <td>25828</td>\n    </tr>\n    <tr>\n      <th>76</th>\n      <td>Edgewater</td>\n      <td>33385</td>\n    </tr>\n    <tr>\n      <th>77</th>\n      <td>CHICAGO</td>\n      <td>28202</td>\n    </tr>\n  </tbody>\n</table>\n<p>78 rows × 2 columns</p>\n</div>"
     },
     "metadata": {}
    }
   ],
   "execution_count": 117
  },
  {
   "cell_type": "code",
   "metadata": {
    "tags": [],
    "cell_id": "00011-af2ec005-174a-49e9-8e6d-db7e0deb7618",
    "deepnote_to_be_reexecuted": false,
    "source_hash": "e21a5117",
    "execution_start": 1641478301255,
    "execution_millis": 36,
    "deepnote_cell_type": "code"
   },
   "source": "income_comm_area[income_comm_area.per_capita_income_.iloc[:]>= 60000]",
   "outputs": [
    {
     "output_type": "execute_result",
     "execution_count": 121,
     "data": {
      "application/vnd.deepnote.dataframe.v3+json": {
       "column_count": 2,
       "row_count": 4,
       "columns": [
        {
         "name": "community_area_name",
         "dtype": "object",
         "stats": {
          "unique_count": 4,
          "nan_count": 0,
          "categories": [
           {
            "name": "Lake View",
            "count": 1
           },
           {
            "name": "Lincoln Park",
            "count": 1
           },
           {
            "name": "2 others",
            "count": 2
           }
          ]
         }
        },
        {
         "name": "per_capita_income_",
         "dtype": "int64",
         "stats": {
          "unique_count": 4,
          "nan_count": 0,
          "min": "60058",
          "max": "88669",
          "histogram": [
           {
            "bin_start": 60058,
            "bin_end": 62919.1,
            "count": 1
           },
           {
            "bin_start": 62919.1,
            "bin_end": 65780.2,
            "count": 1
           },
           {
            "bin_start": 65780.2,
            "bin_end": 68641.3,
            "count": 0
           },
           {
            "bin_start": 68641.3,
            "bin_end": 71502.4,
            "count": 0
           },
           {
            "bin_start": 71502.4,
            "bin_end": 74363.5,
            "count": 1
           },
           {
            "bin_start": 74363.5,
            "bin_end": 77224.6,
            "count": 0
           },
           {
            "bin_start": 77224.6,
            "bin_end": 80085.7,
            "count": 0
           },
           {
            "bin_start": 80085.7,
            "bin_end": 82946.8,
            "count": 0
           },
           {
            "bin_start": 82946.8,
            "bin_end": 85807.9,
            "count": 0
           },
           {
            "bin_start": 85807.9,
            "bin_end": 88669,
            "count": 1
           }
          ]
         }
        },
        {
         "name": "_deepnote_index_column",
         "dtype": "int64"
        }
       ],
       "rows": [
        {
         "community_area_name": "Lake View",
         "per_capita_income_": 60058,
         "_deepnote_index_column": 5
        },
        {
         "community_area_name": "Lincoln Park",
         "per_capita_income_": 71551,
         "_deepnote_index_column": 6
        },
        {
         "community_area_name": "Near North Side",
         "per_capita_income_": 88669,
         "_deepnote_index_column": 7
        },
        {
         "community_area_name": "Loop",
         "per_capita_income_": 65526,
         "_deepnote_index_column": 31
        }
       ]
      },
      "text/plain": "   community_area_name  per_capita_income_\n5            Lake View               60058\n6         Lincoln Park               71551\n7      Near North Side               88669\n31                Loop               65526",
      "text/html": "<div>\n<style scoped>\n    .dataframe tbody tr th:only-of-type {\n        vertical-align: middle;\n    }\n\n    .dataframe tbody tr th {\n        vertical-align: top;\n    }\n\n    .dataframe thead th {\n        text-align: right;\n    }\n</style>\n<table border=\"1\" class=\"dataframe\">\n  <thead>\n    <tr style=\"text-align: right;\">\n      <th></th>\n      <th>community_area_name</th>\n      <th>per_capita_income_</th>\n    </tr>\n  </thead>\n  <tbody>\n    <tr>\n      <th>5</th>\n      <td>Lake View</td>\n      <td>60058</td>\n    </tr>\n    <tr>\n      <th>6</th>\n      <td>Lincoln Park</td>\n      <td>71551</td>\n    </tr>\n    <tr>\n      <th>7</th>\n      <td>Near North Side</td>\n      <td>88669</td>\n    </tr>\n    <tr>\n      <th>31</th>\n      <td>Loop</td>\n      <td>65526</td>\n    </tr>\n  </tbody>\n</table>\n</div>"
     },
     "metadata": {}
    }
   ],
   "execution_count": 121
  },
  {
   "cell_type": "code",
   "metadata": {
    "tags": [],
    "cell_id": "00012-14ad845d-ea23-4664-b40e-9b285c81f02a",
    "deepnote_cell_type": "code"
   },
   "source": "",
   "outputs": [],
   "execution_count": null
  },
  {
   "cell_type": "markdown",
   "source": "Create a scatter plot using the variables per_capita_income_ and hardship_index. Explain the correlation between the two variables.",
   "metadata": {
    "tags": [],
    "cell_id": "00012-8aba1ab4-3de0-4878-88b7-e7ad99ecc89e",
    "deepnote_cell_type": "markdown"
   }
  },
  {
   "cell_type": "code",
   "metadata": {
    "tags": [],
    "cell_id": "00014-b2707c7a-c4b8-45b4-b4f8-fee851919e83",
    "deepnote_to_be_reexecuted": false,
    "source_hash": "849fe3e1",
    "execution_start": 1641478404861,
    "execution_millis": 2034,
    "deepnote_cell_type": "code"
   },
   "source": "import matplotlib.pyplot as plt\n%matplotlib inline\nimport seaborn as sns",
   "outputs": [],
   "execution_count": 122
  },
  {
   "cell_type": "code",
   "metadata": {
    "tags": [],
    "cell_id": "00014-c0f35613-80fe-4875-b4c0-dba06281d5c0",
    "deepnote_to_be_reexecuted": false,
    "source_hash": "3d36f2b",
    "execution_start": 1641478572921,
    "execution_millis": 654,
    "deepnote_output_heights": [
     21.1875,
     265
    ],
    "deepnote_cell_type": "code"
   },
   "source": "sns.scatterplot(data=df, x=\"per_capita_income_\", y=\"hardship_index\")",
   "outputs": [
    {
     "output_type": "execute_result",
     "execution_count": 125,
     "data": {
      "text/plain": "<AxesSubplot:xlabel='per_capita_income_', ylabel='hardship_index'>"
     },
     "metadata": {}
    },
    {
     "data": {
      "text/plain": "<Figure size 432x288 with 1 Axes>",
      "image/png": "[encoded data removed]"
     },
     "metadata": {
      "needs_background": "light",
      "image/png": {
       "width": 395,
       "height": 263
      }
     },
     "output_type": "display_data"
    }
   ],
   "execution_count": 125
  },
  {
   "cell_type": "code",
   "metadata": {
    "tags": [],
    "cell_id": "00015-c8e96afe-7f84-4487-ab6a-955f302e53ec",
    "deepnote_cell_type": "code"
   },
   "source": "#A negative correaltion where hardship_index decreases when income is increased",
   "outputs": [],
   "execution_count": null
  },
  {
   "cell_type": "markdown",
   "source": "<a style='text-decoration:none;line-height:16px;display:flex;color:#5B5B62;padding:10px;justify-content:end;' href='https://deepnote.com?utm_source=created-in-deepnote-cell&projectId=7634484e-660e-4061-8d9a-001c33b2b9e1' target=\"_blank\">\n<img alt='Created in deepnote.com' style='display:inline;max-height:16px;margin:0px;margin-right:7.5px;' src='data:image/svg+xml;base64,PD94bWwgdmVyc2lvbj0iMS4wIiBlbmNvZGluZz0iVVRGLTgiPz4KPHN2ZyB3aWR0aD0iODBweCIgaGVpZ2h0PSI4MHB4IiB2aWV3Qm94PSIwIDAgODAgODAiIHZlcnNpb249IjEuMSIgeG1sbnM9Imh0dHA6Ly93d3cudzMub3JnLzIwMDAvc3ZnIiB4bWxuczp4bGluaz0iaHR0cDovL3d3dy53My5vcmcvMTk5OS94bGluayI+CiAgICA8IS0tIEdlbmVyYXRvcjogU2tldGNoIDU0LjEgKDc2NDkwKSAtIGh0dHBzOi8vc2tldGNoYXBwLmNvbSAtLT4KICAgIDx0aXRsZT5Hcm91cCAzPC90aXRsZT4KICAgIDxkZXNjPkNyZWF0ZWQgd2l0aCBTa2V0Y2guPC9kZXNjPgogICAgPGcgaWQ9IkxhbmRpbmciIHN0cm9rZT0ibm9uZSIgc3Ryb2tlLXdpZHRoPSIxIiBmaWxsPSJub25lIiBmaWxsLXJ1bGU9ImV2ZW5vZGQiPgogICAgICAgIDxnIGlkPSJBcnRib2FyZCIgdHJhbnNmb3JtPSJ0cmFuc2xhdGUoLTEyMzUuMDAwMDAwLCAtNzkuMDAwMDAwKSI+CiAgICAgICAgICAgIDxnIGlkPSJHcm91cC0zIiB0cmFuc2Zvcm09InRyYW5zbGF0ZSgxMjM1LjAwMDAwMCwgNzkuMDAwMDAwKSI+CiAgICAgICAgICAgICAgICA8cG9seWdvbiBpZD0iUGF0aC0yMCIgZmlsbD0iIzAyNjVCNCIgcG9pbnRzPSIyLjM3NjIzNzYyIDgwIDM4LjA0NzY2NjcgODAgNTcuODIxNzgyMiA3My44MDU3NTkyIDU3LjgyMTc4MjIgMzIuNzU5MjczOSAzOS4xNDAyMjc4IDMxLjY4MzE2ODMiPjwvcG9seWdvbj4KICAgICAgICAgICAgICAgIDxwYXRoIGQ9Ik0zNS4wMDc3MTgsODAgQzQyLjkwNjIwMDcsNzYuNDU0OTM1OCA0Ny41NjQ5MTY3LDcxLjU0MjI2NzEgNDguOTgzODY2LDY1LjI2MTk5MzkgQzUxLjExMjI4OTksNTUuODQxNTg0MiA0MS42NzcxNzk1LDQ5LjIxMjIyODQgMjUuNjIzOTg0Niw0OS4yMTIyMjg0IEMyNS40ODQ5Mjg5LDQ5LjEyNjg0NDggMjkuODI2MTI5Niw0My4yODM4MjQ4IDM4LjY0NzU4NjksMzEuNjgzMTY4MyBMNzIuODcxMjg3MSwzMi41NTQ0MjUgTDY1LjI4MDk3Myw2Ny42NzYzNDIxIEw1MS4xMTIyODk5LDc3LjM3NjE0NCBMMzUuMDA3NzE4LDgwIFoiIGlkPSJQYXRoLTIyIiBmaWxsPSIjMDAyODY4Ij48L3BhdGg+CiAgICAgICAgICAgICAgICA8cGF0aCBkPSJNMCwzNy43MzA0NDA1IEwyNy4xMTQ1MzcsMC4yNTcxMTE0MzYgQzYyLjM3MTUxMjMsLTEuOTkwNzE3MDEgODAsMTAuNTAwMzkyNyA4MCwzNy43MzA0NDA1IEM4MCw2NC45NjA0ODgyIDY0Ljc3NjUwMzgsNzkuMDUwMzQxNCAzNC4zMjk1MTEzLDgwIEM0Ny4wNTUzNDg5LDc3LjU2NzA4MDggNTMuNDE4MjY3Nyw3MC4zMTM2MTAzIDUzLjQxODI2NzcsNTguMjM5NTg4NSBDNTMuNDE4MjY3Nyw0MC4xMjg1NTU3IDM2LjMwMzk1NDQsMzcuNzMwNDQwNSAyNS4yMjc0MTcsMzcuNzMwNDQwNSBDMTcuODQzMDU4NiwzNy43MzA0NDA1IDkuNDMzOTE5NjYsMzcuNzMwNDQwNSAwLDM3LjczMDQ0MDUgWiIgaWQ9IlBhdGgtMTkiIGZpbGw9IiMzNzkzRUYiPjwvcGF0aD4KICAgICAgICAgICAgPC9nPgogICAgICAgIDwvZz4KICAgIDwvZz4KPC9zdmc+' > </img>\nCreated in <span style='font-weight:600;margin-left:4px;'>Deepnote</span></a>",
   "metadata": {
    "tags": [],
    "created_in_deepnote_cell": true,
    "deepnote_cell_type": "markdown"
   }
  }
 ],
 "nbformat": 4,
 "nbformat_minor": 2,
 "metadata": {
  "orig_nbformat": 2,
  "deepnote": {
   "is_reactive": false
  },
  "deepnote_notebook_id": "2432f2cf-aa41-443d-bd42-518b99dce56e",
  "deepnote_execution_queue": []
 }
}